{
  "nbformat": 4,
  "nbformat_minor": 0,
  "metadata": {
    "kernelspec": {
      "display_name": "Python 3",
      "language": "python",
      "name": "python3"
    },
    "language_info": {
      "codemirror_mode": {
        "name": "ipython",
        "version": 3
      },
      "file_extension": ".py",
      "mimetype": "text/x-python",
      "name": "python",
      "nbconvert_exporter": "python",
      "pygments_lexer": "ipython3",
      "version": "3.8.5"
    },
    "colab": {
      "name": "01 - Preprocesado.ipynb",
      "provenance": [],
      "include_colab_link": true
    }
  },
  "cells": [
    {
      "cell_type": "markdown",
      "metadata": {
        "id": "view-in-github",
        "colab_type": "text"
      },
      "source": [
        "<a href=\"https://colab.research.google.com/github/jantonio2511/practicaNLP/blob/main/NLP/notebooks/clase/01%20-%20Preprocesado_JALC.ipynb\" target=\"_parent\"><img src=\"https://colab.research.google.com/assets/colab-badge.svg\" alt=\"Open In Colab\"/></a>"
      ]
    },
    {
      "cell_type": "code",
      "metadata": {
        "id": "pdf0cMAdrWBv"
      },
      "source": [
        "#import sys\n",
        "#sys.path.append('/content/drive/MyDrive/COLAB/NLP')\n",
        "#from utils import load_cinema_reviews"
      ],
      "execution_count": null,
      "outputs": []
    },
    {
      "cell_type": "code",
      "metadata": {
        "id": "CwNGYqfZz19J"
      },
      "source": [
        "import os\n",
        "os.chdir('/content/drive/MyDrive/COLAB/NLP')\n",
        "from utils import load_cinema_reviews"
      ],
      "execution_count": null,
      "outputs": []
    },
    {
      "cell_type": "code",
      "metadata": {
        "id": "xNCPhIaZO0Hq"
      },
      "source": [
        "##    DESCOMPRIMIR\n",
        "# !unzip \"/content/drive/MyDrive/COLAB/NLP/datasets/corpusCine.zip\" -d \"/content/drive/MyDrive/COLAB/NLP/datasets/\"\n",
        "# !unrar x \"/content/drive/MyDrive/COLAB/NLP/datasets/corpusCine.zip\" \"/content/drive/MyDrive/COLAB/NLP/datasets/\""
      ],
      "execution_count": null,
      "outputs": []
    },
    {
      "cell_type": "markdown",
      "metadata": {
        "id": "d_kQYwV3rWB1"
      },
      "source": [
        "# Lectura de datos"
      ]
    },
    {
      "cell_type": "code",
      "metadata": {
        "id": "1x18MljcHzcx"
      },
      "source": [
        "# Path al directorio donde tenemos los datasets con las reviews\n",
        "# ¡Descomprimir antes puedes usar lo que esta comentado en la celda anterior!\n",
        "#datasets_path = '../../datasets'\n",
        "datasets_path = '/content/drive/MyDrive/COLAB/NLP/datasets'\n",
        "corpus_cine_folder = 'corpusCine'"
      ],
      "execution_count": null,
      "outputs": []
    },
    {
      "cell_type": "code",
      "metadata": {
        "id": "pH44C6j7rWB2"
      },
      "source": [
        "reviews_dict = load_cinema_reviews(datasets_path, corpus_cine_folderr)"
      ],
      "execution_count": null,
      "outputs": []
    },
    {
      "cell_type": "code",
      "metadata": {
        "colab": {
          "base_uri": "https://localhost:8080/"
        },
        "id": "-Kan_9HgrWB2",
        "outputId": "fa6df7e4-af6f-44ef-d412-337b9ad0ba3d"
      },
      "source": [
        "print(len(reviews_dict))"
      ],
      "execution_count": null,
      "outputs": [
        {
          "output_type": "stream",
          "text": [
            "3878\n"
          ],
          "name": "stdout"
        }
      ]
    },
    {
      "cell_type": "code",
      "metadata": {
        "scrolled": true,
        "colab": {
          "base_uri": "https://localhost:8080/"
        },
        "id": "kUlXIjkwrWB3",
        "outputId": "66d87bdd-312a-4494-b48a-6dcb22b660c8"
      },
      "source": [
        "reviews_dict.get(10)"
      ],
      "execution_count": null,
      "outputs": [
        {
          "output_type": "execute_result",
          "data": {
            "text/plain": [
              "{'author': 'Javier Moreno',\n",
              " 'review_text': 'No. Esta vez no voy a usar una película como pretexto para exponer mis ideas o pensamientos mas dementes/racionales/insensatos. Esta vez, y lo juro ante el sagrado Necronomicón de Lovecraft, pienso hablar de la película en si (por primera vez y esperando que no sirva de precedente), aunque creo que es evidente que prefiero que una película me haga reflexionar sobre cualquier aspecto que en ella se de cita. Quizas algún dia hable sobre todo lo que significa la saga de novelas de Rowling (anda que no tengo cosas de las que hablar) desde una perspectiva menos mitológica y mas profunda.Parto de la base de que soy un autentico fan de los libros, los adoro, me parecen de lo mejorcito que ha salido en fantasia, con un personaje principal realmente interesante y atormentado a todos los niveles por todo lo que su no-existencia está implicando. Parto de la base, que cuando se adapta un libro a la gran pantalla, lo que menos me interesa es su posible fidelidad o no (aunque seria un autentico hipócrita si negara que me importa un bledo). Parto de la base, que lo que mas me gusta ver en una adaptación, es ver plasmado en imagenes lo que los libros me sugirieron con palabras.Tras estas premisas, indico como preludio, que las adaptaciones de Columbus me parecieron bastante interesantes, acordes con lo que los libros narran y reflejando en imagenes todo lo que disfruté en cada uno de los dos volumenes llevados a la gran pantalla por el director de solo en casa. Tambien me gustaria indicar, que la tercera pelicula, dirigida por Alfonso Cuaron, si bien a nivel tecnico me parecio bastante sorprendente (a excepción de ese anorexico hombre lobo), no me acabó de convencer, es mas, me defraudó muchisimo, porque no vi el espiritu de la novela reflejado en la pantalla. Rowling puede decir que la pelicula le encanta y mil cosas mas, pero si a mi me ponen un cheque de 10 millones de dolares sobre la mesa, digo si hace falta que dios existe por mucho que traicione todo lo que la novela implicaba.Con estas breves reseñas, y como indicaba, tras el fiasco sufrido con Harry Potter y el prisionero de Azkaban, he acudido al cine, sin ninguna información (no queria sentirme influido a ningún nivel, ni predispuesto a sentirme decepcionado, ni predispuesto a sentirme satisfecho) a ver la cuarta película del mago huerfano. ¿Que me he encontrado en la película?, pues no mucho, lo que mas me a sorprendido es que un libro de 650 paginas, aun habiendo obviado ciertos pasajes, haya sido mas que correctamente sintetizado en 150 minutos de pelicula, me he encontrado con un director, Mike Newell (realizador entre otras de Cuatro bodas y un funeral, y a priori el menos indicado para una película como esta), que a sabido trasladar la idea global que inspiraba la novela a los 35mm. Sorprendente sin lugar a dudas. Me he encontrado tambien con unos individuos que representaban en las anteriores peliculas a los personajes de las novelas actuando minimamente, aunque Daniel Radcliffe tenga menos talento que la araña a la cual Ojoloco Moody le lanza las maldiciones imperdonables. Mucho efecto visual -inevitable-, absolutamente apabullantes y en ocasiones excelentes (con especial mención para el colacuerno hungaro), buen ritmo narrativo, y algunas escenas que precisaban de mas metraje (especialmente el ataque de los mortifagos, que con lo genial que queda su entrada en escena, uno desea mucho mas). En USA el filme a sido calificado PG-13, en España PG-7. Bueno, es cierto que es muy oscura (algo por otra parte heredero del espiritu de la novela -y me estoy repitiendo con el jodido espiritu-), tiene momentos \"terrorificos\" como la citada aparición de los mortifagos en los mundiales de quidditch y tiene momentos divertidos. Eso es la película, los fans mas radicales de Harry Potter la amarán, los fans mas puristas la repudiaran, entre los menos radicales habrá gente a la que le guste y otra a la que le deje indiferente, y a los que no se han leido las novelas pues les parecera entretenida. Yo, que siendo seguidor de los libros, prefiero situarme en un termino medio, ni tan increible como estoy leyendo por ahi, ni tan mala como se podría esperar viniendo del director que viene. Una película interesante que a mi modo de ver mejora muchisimo el fiasco de Cuarón.De todas formas, dentro de 20 años, veremos si la saga cinematográfica del mago londinense sigue siendo recordada o se quedará en el olvido mas absoluto. Será digno de verlo, si se me permite una reflexión rapida.. soy de los que piensan que los filmes no aguantarán el paso del tiempo como si lo harán las novelas.Y por ultimo, recomendaciones para los productores, para la orden del fenix olvidaros de David Yates y contratad a Guillermo del Toro, para the half blood prince yo apostaria por un Shane Carruth (director de Primer) y para el septimo libro, aun sin haberlo leido, Darren Aronofsky, del cual una vez mas reivindico el urgente estreno de The fountain, que servidor, desde que vio Requiem por un sueño, ansia ver la tercera obra maestra de este director tan destroyer.PD: En caso de no ser Aronofsky, un Takashi Miike seria tremendo.',\n",
              " 'sentiment': '4',\n",
              " 'summary': 'Interesante adaptación de la novela de Rowling',\n",
              " 'title': 'Harry poter y el caliz de fuego'}"
            ]
          },
          "metadata": {
            "tags": []
          },
          "execution_count": 67
        }
      ]
    },
    {
      "cell_type": "markdown",
      "metadata": {
        "id": "UKdH7vDJrWB3"
      },
      "source": [
        "# Clase String\n",
        "\n",
        "Clase nativa de Python que íncorpora utilidades para procesado de texto.\n",
        "\n",
        "Enlace a los distintos métodos: [link](https://www.w3schools.com/python/python_ref_string.asp). "
      ]
    },
    {
      "cell_type": "markdown",
      "metadata": {
        "id": "Pv4B5XgurWB3"
      },
      "source": [
        "# Tokenización"
      ]
    },
    {
      "cell_type": "code",
      "metadata": {
        "colab": {
          "base_uri": "https://localhost:8080/"
        },
        "id": "5T7ks4eYrWB3",
        "outputId": "48bf45ee-d7b7-4120-f2f4-afa16577a350"
      },
      "source": [
        "review = reviews_dict.get(10).get('review_text')\n",
        "print(review[:1000])"
      ],
      "execution_count": null,
      "outputs": [
        {
          "output_type": "stream",
          "text": [
            "No. Esta vez no voy a usar una película como pretexto para exponer mis ideas o pensamientos mas dementes/racionales/insensatos. Esta vez, y lo juro ante el sagrado Necronomicón de Lovecraft, pienso hablar de la película en si (por primera vez y esperando que no sirva de precedente), aunque creo que es evidente que prefiero que una película me haga reflexionar sobre cualquier aspecto que en ella se de cita. Quizas algún dia hable sobre todo lo que significa la saga de novelas de Rowling (anda que no tengo cosas de las que hablar) desde una perspectiva menos mitológica y mas profunda.Parto de la base de que soy un autentico fan de los libros, los adoro, me parecen de lo mejorcito que ha salido en fantasia, con un personaje principal realmente interesante y atormentado a todos los niveles por todo lo que su no-existencia está implicando. Parto de la base, que cuando se adapta un libro a la gran pantalla, lo que menos me interesa es su posible fidelidad o no (aunque seria un autentico hipó\n"
          ],
          "name": "stdout"
        }
      ]
    },
    {
      "cell_type": "markdown",
      "metadata": {
        "id": "4aaELrRIrWB4"
      },
      "source": [
        "## Frases"
      ]
    },
    {
      "cell_type": "code",
      "metadata": {
        "scrolled": true,
        "colab": {
          "base_uri": "https://localhost:8080/"
        },
        "id": "e2d1MPVFrWB4",
        "outputId": "d4f7b0ed-f4d7-40fe-b255-abce6125f245"
      },
      "source": [
        "sentences = review.split('.')\n",
        "print(sentences[:5])"
      ],
      "execution_count": null,
      "outputs": [
        {
          "output_type": "stream",
          "text": [
            "['No', ' Esta vez no voy a usar una película como pretexto para exponer mis ideas o pensamientos mas dementes/racionales/insensatos', ' Esta vez, y lo juro ante el sagrado Necronomicón de Lovecraft, pienso hablar de la película en si (por primera vez y esperando que no sirva de precedente), aunque creo que es evidente que prefiero que una película me haga reflexionar sobre cualquier aspecto que en ella se de cita', ' Quizas algún dia hable sobre todo lo que significa la saga de novelas de Rowling (anda que no tengo cosas de las que hablar) desde una perspectiva menos mitológica y mas profunda', 'Parto de la base de que soy un autentico fan de los libros, los adoro, me parecen de lo mejorcito que ha salido en fantasia, con un personaje principal realmente interesante y atormentado a todos los niveles por todo lo que su no-existencia está implicando']\n"
          ],
          "name": "stdout"
        }
      ]
    },
    {
      "cell_type": "markdown",
      "metadata": {
        "id": "HoMUY2nrrWB4"
      },
      "source": [
        "## Tokens"
      ]
    },
    {
      "cell_type": "code",
      "metadata": {
        "colab": {
          "base_uri": "https://localhost:8080/"
        },
        "id": "kDJP-h2krWB4",
        "outputId": "cd26d466-7239-4aec-b5fa-b3dfc7163463"
      },
      "source": [
        "sentence = sentences[2]\n",
        "print(sentence)"
      ],
      "execution_count": null,
      "outputs": [
        {
          "output_type": "stream",
          "text": [
            " Esta vez, y lo juro ante el sagrado Necronomicón de Lovecraft, pienso hablar de la película en si (por primera vez y esperando que no sirva de precedente), aunque creo que es evidente que prefiero que una película me haga reflexionar sobre cualquier aspecto que en ella se de cita\n"
          ],
          "name": "stdout"
        }
      ]
    },
    {
      "cell_type": "code",
      "metadata": {
        "scrolled": true,
        "colab": {
          "base_uri": "https://localhost:8080/"
        },
        "id": "ykINoGEurWB5",
        "outputId": "f6031dfe-dd69-471c-e4bd-838c068afbc3"
      },
      "source": [
        "for idx, word in enumerate(sentence.split(' ')):\n",
        "    print('Palabra {0:5}{1:5}'.format(str(idx), word))"
      ],
      "execution_count": null,
      "outputs": [
        {
          "output_type": "stream",
          "text": [
            "Palabra 0         \n",
            "Palabra 1    Esta \n",
            "Palabra 2    vez, \n",
            "Palabra 3    y    \n",
            "Palabra 4    lo   \n",
            "Palabra 5    juro \n",
            "Palabra 6    ante \n",
            "Palabra 7    el   \n",
            "Palabra 8    sagrado\n",
            "Palabra 9    Necronomicón\n",
            "Palabra 10   de   \n",
            "Palabra 11   Lovecraft,\n",
            "Palabra 12   pienso\n",
            "Palabra 13   hablar\n",
            "Palabra 14   de   \n",
            "Palabra 15   la   \n",
            "Palabra 16   película\n",
            "Palabra 17   en   \n",
            "Palabra 18   si   \n",
            "Palabra 19   (por \n",
            "Palabra 20   primera\n",
            "Palabra 21   vez  \n",
            "Palabra 22   y    \n",
            "Palabra 23   esperando\n",
            "Palabra 24   que  \n",
            "Palabra 25   no   \n",
            "Palabra 26   sirva\n",
            "Palabra 27   de   \n",
            "Palabra 28   precedente),\n",
            "Palabra 29   aunque\n",
            "Palabra 30   creo \n",
            "Palabra 31   que  \n",
            "Palabra 32   es   \n",
            "Palabra 33   evidente\n",
            "Palabra 34   que  \n",
            "Palabra 35   prefiero\n",
            "Palabra 36   que  \n",
            "Palabra 37   una  \n",
            "Palabra 38   película\n",
            "Palabra 39   me   \n",
            "Palabra 40   haga \n",
            "Palabra 41   reflexionar\n",
            "Palabra 42   sobre\n",
            "Palabra 43   cualquier\n",
            "Palabra 44   aspecto\n",
            "Palabra 45   que  \n",
            "Palabra 46   en   \n",
            "Palabra 47   ella \n",
            "Palabra 48   se   \n",
            "Palabra 49   de   \n",
            "Palabra 50   cita \n"
          ],
          "name": "stdout"
        }
      ]
    },
    {
      "cell_type": "markdown",
      "metadata": {
        "id": "z3ri7wF0rWB5"
      },
      "source": [
        "# Normalización"
      ]
    },
    {
      "cell_type": "code",
      "metadata": {
        "colab": {
          "base_uri": "https://localhost:8080/"
        },
        "id": "A_pmQ8GkrWB5",
        "outputId": "ec772dbb-993e-401a-a4a6-c699e01df24a"
      },
      "source": [
        "print(sentence)"
      ],
      "execution_count": null,
      "outputs": [
        {
          "output_type": "stream",
          "text": [
            " Esta vez, y lo juro ante el sagrado Necronomicón de Lovecraft, pienso hablar de la película en si (por primera vez y esperando que no sirva de precedente), aunque creo que es evidente que prefiero que una película me haga reflexionar sobre cualquier aspecto que en ella se de cita\n"
          ],
          "name": "stdout"
        }
      ]
    },
    {
      "cell_type": "markdown",
      "metadata": {
        "id": "XUD39xHXrWB5"
      },
      "source": [
        "## Convertir a minúsculas"
      ]
    },
    {
      "cell_type": "code",
      "metadata": {
        "colab": {
          "base_uri": "https://localhost:8080/"
        },
        "id": "aiBfvVYsrWB5",
        "outputId": "a54170b9-25fb-4d5e-b287-aa130d8b3b65"
      },
      "source": [
        "sentence.lower()"
      ],
      "execution_count": null,
      "outputs": [
        {
          "output_type": "execute_result",
          "data": {
            "application/vnd.google.colaboratory.intrinsic+json": {
              "type": "string"
            },
            "text/plain": [
              "' esta vez, y lo juro ante el sagrado necronomicón de lovecraft, pienso hablar de la película en si (por primera vez y esperando que no sirva de precedente), aunque creo que es evidente que prefiero que una película me haga reflexionar sobre cualquier aspecto que en ella se de cita'"
            ]
          },
          "metadata": {
            "tags": []
          },
          "execution_count": 73
        }
      ]
    },
    {
      "cell_type": "markdown",
      "metadata": {
        "id": "lmFz4trwrWB6"
      },
      "source": [
        "## Convertir a mayúsculas"
      ]
    },
    {
      "cell_type": "code",
      "metadata": {
        "colab": {
          "base_uri": "https://localhost:8080/",
          "height": 52
        },
        "id": "J9TLbzdjrWB6",
        "outputId": "6b4064c7-6915-425b-a562-7ef4c22d67a2"
      },
      "source": [
        "sentence.upper()"
      ],
      "execution_count": null,
      "outputs": [
        {
          "output_type": "execute_result",
          "data": {
            "application/vnd.google.colaboratory.intrinsic+json": {
              "type": "string"
            },
            "text/plain": [
              "' ESTA VEZ, Y LO JURO ANTE EL SAGRADO NECRONOMICÓN DE LOVECRAFT, PIENSO HABLAR DE LA PELÍCULA EN SI (POR PRIMERA VEZ Y ESPERANDO QUE NO SIRVA DE PRECEDENTE), AUNQUE CREO QUE ES EVIDENTE QUE PREFIERO QUE UNA PELÍCULA ME HAGA REFLEXIONAR SOBRE CUALQUIER ASPECTO QUE EN ELLA SE DE CITA'"
            ]
          },
          "metadata": {
            "tags": []
          },
          "execution_count": 74
        }
      ]
    },
    {
      "cell_type": "markdown",
      "metadata": {
        "id": "jGg7ansYrWB6"
      },
      "source": [
        "## Eliminar espacios al inicio y al final"
      ]
    },
    {
      "cell_type": "code",
      "metadata": {
        "colab": {
          "base_uri": "https://localhost:8080/",
          "height": 52
        },
        "id": "84X6HG8srWB6",
        "outputId": "440ff698-5da9-4e07-931b-413cccbac979"
      },
      "source": [
        "sentence.strip()"
      ],
      "execution_count": null,
      "outputs": [
        {
          "output_type": "execute_result",
          "data": {
            "application/vnd.google.colaboratory.intrinsic+json": {
              "type": "string"
            },
            "text/plain": [
              "'Esta vez, y lo juro ante el sagrado Necronomicón de Lovecraft, pienso hablar de la película en si (por primera vez y esperando que no sirva de precedente), aunque creo que es evidente que prefiero que una película me haga reflexionar sobre cualquier aspecto que en ella se de cita'"
            ]
          },
          "metadata": {
            "tags": []
          },
          "execution_count": 75
        }
      ]
    },
    {
      "cell_type": "markdown",
      "metadata": {
        "id": "z2O3JMXirWB6"
      },
      "source": [
        "## Filtrado"
      ]
    },
    {
      "cell_type": "code",
      "metadata": {
        "colab": {
          "base_uri": "https://localhost:8080/",
          "height": 52
        },
        "id": "_qpHUOWFrWB6",
        "outputId": "e6c2c370-5550-4381-c715-97b3709bab4a"
      },
      "source": [
        "# Solo minúsculas y números\n",
        "import re\n",
        "re.sub(r'[^a-z0-9]+', ' ', sentence)"
      ],
      "execution_count": null,
      "outputs": [
        {
          "output_type": "execute_result",
          "data": {
            "application/vnd.google.colaboratory.intrinsic+json": {
              "type": "string"
            },
            "text/plain": [
              "' sta vez y lo juro ante el sagrado ecronomic n de ovecraft pienso hablar de la pel cula en si por primera vez y esperando que no sirva de precedente aunque creo que es evidente que prefiero que una pel cula me haga reflexionar sobre cualquier aspecto que en ella se de cita'"
            ]
          },
          "metadata": {
            "tags": []
          },
          "execution_count": 76
        }
      ]
    },
    {
      "cell_type": "code",
      "metadata": {
        "colab": {
          "base_uri": "https://localhost:8080/",
          "height": 35
        },
        "id": "RQKso_iKrWB7",
        "outputId": "9e8c4b0a-cfcf-4877-c40d-35617c8534e2"
      },
      "source": [
        "# Solo números\n",
        "# Quedarse solo con números\n",
        "import re\n",
        "re.sub('[^0-9]+', ' ', sentence)"
      ],
      "execution_count": null,
      "outputs": [
        {
          "output_type": "execute_result",
          "data": {
            "application/vnd.google.colaboratory.intrinsic+json": {
              "type": "string"
            },
            "text/plain": [
              "' '"
            ]
          },
          "metadata": {
            "tags": []
          },
          "execution_count": 77
        }
      ]
    },
    {
      "cell_type": "markdown",
      "metadata": {
        "id": "SyrU89TqrWB7"
      },
      "source": [
        "## Eliminar puntuación"
      ]
    },
    {
      "cell_type": "code",
      "metadata": {
        "colab": {
          "base_uri": "https://localhost:8080/",
          "height": 52
        },
        "id": "vNUjLc9urWB7",
        "outputId": "fac7caed-db68-4e82-c31e-462089f4f2d4"
      },
      "source": [
        "import string\n",
        "table = str.maketrans('', '', string.punctuation)\n",
        "' '.join([word.translate(table) for word in sentence.split()])"
      ],
      "execution_count": null,
      "outputs": [
        {
          "output_type": "execute_result",
          "data": {
            "application/vnd.google.colaboratory.intrinsic+json": {
              "type": "string"
            },
            "text/plain": [
              "'Esta vez y lo juro ante el sagrado Necronomicón de Lovecraft pienso hablar de la película en si por primera vez y esperando que no sirva de precedente aunque creo que es evidente que prefiero que una película me haga reflexionar sobre cualquier aspecto que en ella se de cita'"
            ]
          },
          "metadata": {
            "tags": []
          },
          "execution_count": 78
        }
      ]
    },
    {
      "cell_type": "markdown",
      "metadata": {
        "id": "7nkMg3_grWB7"
      },
      "source": [
        "## Eliminar acentos"
      ]
    },
    {
      "cell_type": "code",
      "metadata": {
        "id": "INuUKmF6rWB7"
      },
      "source": [
        "import unicodedata"
      ],
      "execution_count": null,
      "outputs": []
    },
    {
      "cell_type": "code",
      "metadata": {
        "colab": {
          "base_uri": "https://localhost:8080/",
          "height": 35
        },
        "id": "qCGfH5F-rWB7",
        "outputId": "e16713b5-f019-4896-a0dc-40a6d6f34994"
      },
      "source": [
        "text_with_accents = 'Téxtô Ácěntuado ñ'\n",
        "unicodedata.normalize('NFKD', text_with_accents).encode('ascii', 'ignore').decode('utf-8', 'ignore')"
      ],
      "execution_count": null,
      "outputs": [
        {
          "output_type": "execute_result",
          "data": {
            "application/vnd.google.colaboratory.intrinsic+json": {
              "type": "string"
            },
            "text/plain": [
              "'Texto Acentuado n'"
            ]
          },
          "metadata": {
            "tags": []
          },
          "execution_count": 89
        }
      ]
    },
    {
      "cell_type": "markdown",
      "metadata": {
        "id": "nHdXR9N3rWB8"
      },
      "source": [
        "## Convertir números a texto"
      ]
    },
    {
      "cell_type": "code",
      "metadata": {
        "id": "b1y6PnowJKLs",
        "colab": {
          "base_uri": "https://localhost:8080/"
        },
        "outputId": "031eb7ed-8eec-4095-e735-1750832349c6"
      },
      "source": [
        "!pip install num2words"
      ],
      "execution_count": null,
      "outputs": [
        {
          "output_type": "stream",
          "text": [
            "Collecting num2words\n",
            "\u001b[?25l  Downloading https://files.pythonhosted.org/packages/eb/a2/ea800689730732e27711c41beed4b2a129b34974435bdc450377ec407738/num2words-0.5.10-py3-none-any.whl (101kB)\n",
            "\r\u001b[K     |███▎                            | 10kB 17.0MB/s eta 0:00:01\r\u001b[K     |██████▌                         | 20kB 22.3MB/s eta 0:00:01\r\u001b[K     |█████████▊                      | 30kB 27.6MB/s eta 0:00:01\r\u001b[K     |█████████████                   | 40kB 17.8MB/s eta 0:00:01\r\u001b[K     |████████████████▏               | 51kB 9.3MB/s eta 0:00:01\r\u001b[K     |███████████████████▍            | 61kB 9.2MB/s eta 0:00:01\r\u001b[K     |██████████████████████▋         | 71kB 9.0MB/s eta 0:00:01\r\u001b[K     |█████████████████████████▉      | 81kB 9.3MB/s eta 0:00:01\r\u001b[K     |█████████████████████████████   | 92kB 10.2MB/s eta 0:00:01\r\u001b[K     |████████████████████████████████| 102kB 2.3MB/s \n",
            "\u001b[?25hRequirement already satisfied: docopt>=0.6.2 in /usr/local/lib/python3.6/dist-packages (from num2words) (0.6.2)\n",
            "Installing collected packages: num2words\n",
            "Successfully installed num2words-0.5.10\n"
          ],
          "name": "stdout"
        }
      ]
    },
    {
      "cell_type": "code",
      "metadata": {
        "id": "eOR7BGj_rWB8"
      },
      "source": [
        "from num2words import num2words"
      ],
      "execution_count": null,
      "outputs": []
    },
    {
      "cell_type": "code",
      "metadata": {
        "colab": {
          "base_uri": "https://localhost:8080/",
          "height": 35
        },
        "id": "-g2cWoECrWB8",
        "outputId": "c28d9825-0871-4d5a-b399-fe70613da4c5"
      },
      "source": [
        "num2words(2)"
      ],
      "execution_count": null,
      "outputs": [
        {
          "output_type": "execute_result",
          "data": {
            "application/vnd.google.colaboratory.intrinsic+json": {
              "type": "string"
            },
            "text/plain": [
              "'two'"
            ]
          },
          "metadata": {
            "tags": []
          },
          "execution_count": 93
        }
      ]
    },
    {
      "cell_type": "code",
      "metadata": {
        "colab": {
          "base_uri": "https://localhost:8080/",
          "height": 35
        },
        "id": "4G7JpqWTrWB8",
        "outputId": "aefca607-b2bf-4dce-e67f-f3a32553fd26"
      },
      "source": [
        "num2words(2, lang='es', ordinal=False)"
      ],
      "execution_count": null,
      "outputs": [
        {
          "output_type": "execute_result",
          "data": {
            "application/vnd.google.colaboratory.intrinsic+json": {
              "type": "string"
            },
            "text/plain": [
              "'dos'"
            ]
          },
          "metadata": {
            "tags": []
          },
          "execution_count": 94
        }
      ]
    },
    {
      "cell_type": "code",
      "metadata": {
        "colab": {
          "base_uri": "https://localhost:8080/",
          "height": 35
        },
        "id": "Z5-CLbSDrWB9",
        "outputId": "4953f404-8566-40c6-a436-e2c7d9de4568"
      },
      "source": [
        "num2words(2, lang='es', ordinal=True)"
      ],
      "execution_count": null,
      "outputs": [
        {
          "output_type": "execute_result",
          "data": {
            "application/vnd.google.colaboratory.intrinsic+json": {
              "type": "string"
            },
            "text/plain": [
              "'segundo'"
            ]
          },
          "metadata": {
            "tags": []
          },
          "execution_count": 95
        }
      ]
    },
    {
      "cell_type": "code",
      "metadata": {
        "colab": {
          "base_uri": "https://localhost:8080/"
        },
        "id": "M0WurtcLrWB9",
        "outputId": "ffc2d1cc-0bd9-46d9-f104-30c5cbcf8883"
      },
      "source": [
        "[word if not word.isdigit() else num2words(word, lang='es', ordinal=False) for word in 'Hoy es 29 de junio de 2020'.split(' ')]"
      ],
      "execution_count": null,
      "outputs": [
        {
          "output_type": "execute_result",
          "data": {
            "text/plain": [
              "['Hoy', 'es', 'veintinueve', 'de', 'junio', 'de', 'dos mil veinte']"
            ]
          },
          "metadata": {
            "tags": []
          },
          "execution_count": 96
        }
      ]
    },
    {
      "cell_type": "markdown",
      "metadata": {
        "id": "l9Da2eGArWB9"
      },
      "source": [
        "## Stopwords"
      ]
    },
    {
      "cell_type": "markdown",
      "metadata": {
        "id": "OGrk8NA0rWB9"
      },
      "source": [
        "Palabras con - a priori - ningún significado o que aportan muy poca información. Suelen ser palabras muy comunes como, por ejemplo, preposiciones.\n",
        "\n",
        "En NLP se suele trabajar con vocabularios enormes (en _Don Quijote de la Mancha_ aparecen en torno a **23.000 palabras distintas**) por lo que interesa filtras aquellas que menos información aporten.\n",
        "\n",
        "Debate: ¿qué significa que _aporten información_?"
      ]
    },
    {
      "cell_type": "code",
      "metadata": {
        "id": "Q_8tsO7gKJqI",
        "colab": {
          "base_uri": "https://localhost:8080/"
        },
        "outputId": "3078c5f5-8a15-4b82-d449-d7d145e0d9df"
      },
      "source": [
        "!pip install stop_words"
      ],
      "execution_count": null,
      "outputs": [
        {
          "output_type": "stream",
          "text": [
            "Collecting stop_words\n",
            "  Downloading https://files.pythonhosted.org/packages/1c/cb/d58290804b7a4c5daa42abbbe2a93c477ae53e45541b1825e86f0dfaaf63/stop-words-2018.7.23.tar.gz\n",
            "Building wheels for collected packages: stop-words\n",
            "  Building wheel for stop-words (setup.py) ... \u001b[?25l\u001b[?25hdone\n",
            "  Created wheel for stop-words: filename=stop_words-2018.7.23-cp36-none-any.whl size=32919 sha256=bd13d1638f6899826d669da5da2c20547d72d992e563d279e509ca218b95b352\n",
            "  Stored in directory: /root/.cache/pip/wheels/75/37/6a/2b295e03bd07290f0da95c3adb9a74ba95fbc333aa8b0c7c78\n",
            "Successfully built stop-words\n",
            "Installing collected packages: stop-words\n",
            "Successfully installed stop-words-2018.7.23\n"
          ],
          "name": "stdout"
        }
      ]
    },
    {
      "cell_type": "code",
      "metadata": {
        "id": "nN9GoTvOrWB9"
      },
      "source": [
        "from stop_words import get_stop_words"
      ],
      "execution_count": null,
      "outputs": []
    },
    {
      "cell_type": "code",
      "metadata": {
        "scrolled": true,
        "id": "pNX6o2CurWB9"
      },
      "source": [
        "sw_list = get_stop_words('es')"
      ],
      "execution_count": null,
      "outputs": []
    },
    {
      "cell_type": "code",
      "metadata": {
        "scrolled": true,
        "colab": {
          "base_uri": "https://localhost:8080/"
        },
        "id": "HQF_AV4srWB-",
        "outputId": "0d3c1d29-91da-430f-b778-5f0956f500f4"
      },
      "source": [
        "print(sw_list)"
      ],
      "execution_count": null,
      "outputs": [
        {
          "output_type": "stream",
          "text": [
            "['a', 'al', 'algo', 'algunas', 'algunos', 'ante', 'antes', 'como', 'con', 'contra', 'cual', 'cuando', 'de', 'del', 'desde', 'donde', 'durante', 'e', 'el', 'ella', 'ellas', 'ellos', 'en', 'entre', 'era', 'erais', 'eran', 'eras', 'eres', 'es', 'esa', 'esas', 'ese', 'eso', 'esos', 'esta', 'estaba', 'estabais', 'estaban', 'estabas', 'estad', 'estada', 'estadas', 'estado', 'estados', 'estamos', 'estando', 'estar', 'estaremos', 'estará', 'estarán', 'estarás', 'estaré', 'estaréis', 'estaría', 'estaríais', 'estaríamos', 'estarían', 'estarías', 'estas', 'este', 'estemos', 'esto', 'estos', 'estoy', 'estuve', 'estuviera', 'estuvierais', 'estuvieran', 'estuvieras', 'estuvieron', 'estuviese', 'estuvieseis', 'estuviesen', 'estuvieses', 'estuvimos', 'estuviste', 'estuvisteis', 'estuviéramos', 'estuviésemos', 'estuvo', 'está', 'estábamos', 'estáis', 'están', 'estás', 'esté', 'estéis', 'estén', 'estés', 'fue', 'fuera', 'fuerais', 'fueran', 'fueras', 'fueron', 'fuese', 'fueseis', 'fuesen', 'fueses', 'fui', 'fuimos', 'fuiste', 'fuisteis', 'fuéramos', 'fuésemos', 'ha', 'habida', 'habidas', 'habido', 'habidos', 'habiendo', 'habremos', 'habrá', 'habrán', 'habrás', 'habré', 'habréis', 'habría', 'habríais', 'habríamos', 'habrían', 'habrías', 'habéis', 'había', 'habíais', 'habíamos', 'habían', 'habías', 'han', 'has', 'hasta', 'hay', 'haya', 'hayamos', 'hayan', 'hayas', 'hayáis', 'he', 'hemos', 'hube', 'hubiera', 'hubierais', 'hubieran', 'hubieras', 'hubieron', 'hubiese', 'hubieseis', 'hubiesen', 'hubieses', 'hubimos', 'hubiste', 'hubisteis', 'hubiéramos', 'hubiésemos', 'hubo', 'la', 'las', 'le', 'les', 'lo', 'los', 'me', 'mi', 'mis', 'mucho', 'muchos', 'muy', 'más', 'mí', 'mía', 'mías', 'mío', 'míos', 'nada', 'ni', 'no', 'nos', 'nosotras', 'nosotros', 'nuestra', 'nuestras', 'nuestro', 'nuestros', 'o', 'os', 'otra', 'otras', 'otro', 'otros', 'para', 'pero', 'poco', 'por', 'porque', 'que', 'quien', 'quienes', 'qué', 'se', 'sea', 'seamos', 'sean', 'seas', 'seremos', 'será', 'serán', 'serás', 'seré', 'seréis', 'sería', 'seríais', 'seríamos', 'serían', 'serías', 'seáis', 'sido', 'siendo', 'sin', 'sobre', 'sois', 'somos', 'son', 'soy', 'su', 'sus', 'suya', 'suyas', 'suyo', 'suyos', 'sí', 'también', 'tanto', 'te', 'tendremos', 'tendrá', 'tendrán', 'tendrás', 'tendré', 'tendréis', 'tendría', 'tendríais', 'tendríamos', 'tendrían', 'tendrías', 'tened', 'tenemos', 'tenga', 'tengamos', 'tengan', 'tengas', 'tengo', 'tengáis', 'tenida', 'tenidas', 'tenido', 'tenidos', 'teniendo', 'tenéis', 'tenía', 'teníais', 'teníamos', 'tenían', 'tenías', 'ti', 'tiene', 'tienen', 'tienes', 'todo', 'todos', 'tu', 'tus', 'tuve', 'tuviera', 'tuvierais', 'tuvieran', 'tuvieras', 'tuvieron', 'tuviese', 'tuvieseis', 'tuviesen', 'tuvieses', 'tuvimos', 'tuviste', 'tuvisteis', 'tuviéramos', 'tuviésemos', 'tuvo', 'tuya', 'tuyas', 'tuyo', 'tuyos', 'tú', 'un', 'una', 'uno', 'unos', 'vosotras', 'vosotros', 'vuestra', 'vuestras', 'vuestro', 'vuestros', 'y', 'ya', 'yo', 'él', 'éramos']\n"
          ],
          "name": "stdout"
        }
      ]
    },
    {
      "cell_type": "code",
      "metadata": {
        "colab": {
          "base_uri": "https://localhost:8080/"
        },
        "id": "EQdxh082rWB-",
        "outputId": "b8d26a12-58be-4848-c937-c9e373cf832c"
      },
      "source": [
        "sentence_no_sw = ' '.join([word for word in sentence.split() if word not in sw_list])\n",
        "\n",
        "print('Frase completa:\\n{}\\n'.format(sentence))\n",
        "print('Frase sin stopwords:\\n{}'.format(sentence_no_sw))"
      ],
      "execution_count": null,
      "outputs": [
        {
          "output_type": "stream",
          "text": [
            "Frase completa:\n",
            " Esta vez, y lo juro ante el sagrado Necronomicón de Lovecraft, pienso hablar de la película en si (por primera vez y esperando que no sirva de precedente), aunque creo que es evidente que prefiero que una película me haga reflexionar sobre cualquier aspecto que en ella se de cita\n",
            "\n",
            "Frase sin stopwords:\n",
            "Esta vez, juro sagrado Necronomicón Lovecraft, pienso hablar película si (por primera vez esperando sirva precedente), aunque creo evidente prefiero película haga reflexionar cualquier aspecto cita\n"
          ],
          "name": "stdout"
        }
      ]
    },
    {
      "cell_type": "markdown",
      "metadata": {
        "id": "y-HFzMfSrWB-"
      },
      "source": [
        "## Lemmatization"
      ]
    },
    {
      "cell_type": "markdown",
      "metadata": {
        "id": "FYTrfvoMrWB-"
      },
      "source": [
        "Técnica de normalización de textos que busca reducir las palabras a su raíz (lemma).\n",
        "\n",
        "Muy utilizado para reducir la cardinalidad del vocabulario asociando para diferentes formas flexionadas un único token ('entreno', 'entrenarás', 'entrenaría' -> 'entrenar').\n",
        "\n",
        "Aunque muy utilizados en motores de búsqueda "
      ]
    },
    {
      "cell_type": "code",
      "metadata": {
        "id": "0VPMqkyIrWB-"
      },
      "source": [
        "import os"
      ],
      "execution_count": null,
      "outputs": []
    },
    {
      "cell_type": "code",
      "metadata": {
        "id": "fXcN75ofrWB_"
      },
      "source": [
        "data_path = '/content/drive/MyDrive/COLAB/NLP/data'\n",
        "lemmas_dict_file = 'lemmatization-es.txt'"
      ],
      "execution_count": null,
      "outputs": []
    },
    {
      "cell_type": "code",
      "metadata": {
        "id": "hjDEZMIFrWB_"
      },
      "source": [
        "def get_lemmas_dict():\n",
        "    lemmas_dict = {}\n",
        "    with open(os.path.join(data_path, lemmas_dict_file), 'r') as f:\n",
        "        for line in f:\n",
        "            (key, val) = line.split()\n",
        "            lemmas_dict[str(val)] = key\n",
        "    return lemmas_dict"
      ],
      "execution_count": null,
      "outputs": []
    },
    {
      "cell_type": "code",
      "metadata": {
        "id": "uBMfjUIarWB_"
      },
      "source": [
        "lemmas_dict = get_lemmas_dict()"
      ],
      "execution_count": null,
      "outputs": []
    },
    {
      "cell_type": "code",
      "metadata": {
        "colab": {
          "base_uri": "https://localhost:8080/"
        },
        "id": "WBtOAK-1rWB_",
        "outputId": "eb2f4c56-9140-4aad-f2ed-912f2a711c4a"
      },
      "source": [
        "lemmas_dict"
      ],
      "execution_count": null,
      "outputs": [
        {
          "output_type": "execute_result",
          "data": {
            "text/plain": [
              "{'aes': '\\ufeffa',\n",
              " 'ababas': 'abar',\n",
              " 'abababites': 'abababite',\n",
              " 'ababanes': 'ababan',\n",
              " 'ababoles': 'ababol',\n",
              " 'abacas': 'abaca',\n",
              " 'abacerias': 'abaceria',\n",
              " 'abacera': 'abacero',\n",
              " 'abaceras': 'abacero',\n",
              " 'abaceros': 'abacero',\n",
              " 'abaciales': 'abacial',\n",
              " 'abacos': 'abaco',\n",
              " 'abades': 'abad',\n",
              " 'abadas': 'abar',\n",
              " 'abadejos': 'abadejo',\n",
              " 'abadenga': 'abadengo',\n",
              " 'abadengas': 'abadengo',\n",
              " 'abadengos': 'abadengo',\n",
              " 'abadesas': 'abadesa',\n",
              " 'abadias': 'abadia',\n",
              " 'abadiados': 'abadiado',\n",
              " 'abadiatos': 'abadiato',\n",
              " 'abajaderos': 'abajadero',\n",
              " 'abajamientos': 'abajamiento',\n",
              " 'abaja': 'abajar',\n",
              " 'abajaba': 'abajar',\n",
              " 'abajabais': 'abajar',\n",
              " 'abajabamos': 'abajar',\n",
              " 'abajaban': 'abajar',\n",
              " 'abajabas': 'abajar',\n",
              " 'abajad': 'abajar',\n",
              " 'abajada': 'abajar',\n",
              " 'abajadas': 'abajar',\n",
              " 'abajado': 'abajar',\n",
              " 'abajados': 'abajar',\n",
              " 'abajais': 'abajar',\n",
              " 'abajamos': 'abajar',\n",
              " 'abajan': 'abajar',\n",
              " 'abajando': 'abajar',\n",
              " 'abajara': 'abajar',\n",
              " 'abajarais': 'abajar',\n",
              " 'abajaramos': 'abajar',\n",
              " 'abajaran': 'abajar',\n",
              " 'abajaras': 'abajar',\n",
              " 'abajare': 'abajar',\n",
              " 'abajareis': 'abajar',\n",
              " 'abajaremos': 'abajar',\n",
              " 'abajaren': 'abajar',\n",
              " 'abajares': 'abajar',\n",
              " 'abajaria': 'abajar',\n",
              " 'abajariais': 'abajar',\n",
              " 'abajariamos': 'abajar',\n",
              " 'abajarian': 'abajar',\n",
              " 'abajarias': 'abajar',\n",
              " 'abajaron': 'abajar',\n",
              " 'abajas': 'abajar',\n",
              " 'abajase': 'abajar',\n",
              " 'abajaseis': 'abajar',\n",
              " 'abajasemos': 'abajar',\n",
              " 'abajasen': 'abajar',\n",
              " 'abajases': 'abajar',\n",
              " 'abajaste': 'abajar',\n",
              " 'abajasteis': 'abajar',\n",
              " 'abaje': 'abajar',\n",
              " 'abajeis': 'abajar',\n",
              " 'abajemos': 'abajar',\n",
              " 'abajen': 'abajar',\n",
              " 'abajes': 'abajar',\n",
              " 'abajo': 'abajar',\n",
              " 'abajeña': 'abajeño',\n",
              " 'abajeñas': 'abajeño',\n",
              " 'abajeños': 'abajeño',\n",
              " 'abalance': 'abalanzar',\n",
              " 'abalanceis': 'abalanzar',\n",
              " 'abalancemos': 'abalanzar',\n",
              " 'abalancen': 'abalanzar',\n",
              " 'abalances': 'abalanzar',\n",
              " 'abalanza': 'abalanzar',\n",
              " 'abalanzaba': 'abalanzar',\n",
              " 'abalanzabais': 'abalanzar',\n",
              " 'abalanzabamos': 'abalanzar',\n",
              " 'abalanzaban': 'abalanzar',\n",
              " 'abalanzabas': 'abalanzar',\n",
              " 'abalanzad': 'abalanzar',\n",
              " 'abalanzada': 'abalanzar',\n",
              " 'abalanzadas': 'abalanzar',\n",
              " 'abalanzado': 'abalanzar',\n",
              " 'abalanzados': 'abalanzar',\n",
              " 'abalanzais': 'abalanzar',\n",
              " 'abalanzamos': 'abalanzar',\n",
              " 'abalanzan': 'abalanzar',\n",
              " 'abalanzando': 'abalanzar',\n",
              " 'abalanzara': 'abalanzar',\n",
              " 'abalanzarais': 'abalanzar',\n",
              " 'abalanzaramos': 'abalanzar',\n",
              " 'abalanzaran': 'abalanzar',\n",
              " 'abalanzaras': 'abalanzar',\n",
              " 'abalanzare': 'abalanzar',\n",
              " 'abalanzareis': 'abalanzar',\n",
              " 'abalanzaremos': 'abalanzar',\n",
              " 'abalanzaren': 'abalanzar',\n",
              " 'abalanzares': 'abalanzar',\n",
              " 'abalanzaria': 'abalanzar',\n",
              " 'abalanzariais': 'abalanzar',\n",
              " 'abalanzariamos': 'abalanzar',\n",
              " 'abalanzarian': 'abalanzar',\n",
              " 'abalanzarias': 'abalanzar',\n",
              " 'abalanzaron': 'abalanzar',\n",
              " 'abalanzas': 'abalanzar',\n",
              " 'abalanzase': 'abalanzar',\n",
              " 'abalanzaseis': 'abalanzar',\n",
              " 'abalanzasemos': 'abalanzar',\n",
              " 'abalanzasen': 'abalanzar',\n",
              " 'abalanzases': 'abalanzar',\n",
              " 'abalanzaste': 'abalanzar',\n",
              " 'abalanzasteis': 'abalanzar',\n",
              " 'abalanzo': 'abalanzar',\n",
              " 'abalaustra': 'abalaustrar',\n",
              " 'abalaustraba': 'abalaustrar',\n",
              " 'abalaustrabais': 'abalaustrar',\n",
              " 'abalaustrabamos': 'abalaustrar',\n",
              " 'abalaustraban': 'abalaustrar',\n",
              " 'abalaustrabas': 'abalaustrar',\n",
              " 'abalaustrad': 'abalaustrar',\n",
              " 'abalaustrada': 'abalaustrar',\n",
              " 'abalaustradas': 'abalaustrar',\n",
              " 'abalaustrado': 'abalaustrar',\n",
              " 'abalaustrados': 'abalaustrar',\n",
              " 'abalaustrais': 'abalaustrar',\n",
              " 'abalaustramos': 'abalaustrar',\n",
              " 'abalaustran': 'abalaustrar',\n",
              " 'abalaustrando': 'abalaustrar',\n",
              " 'abalaustrara': 'abalaustrar',\n",
              " 'abalaustrarais': 'abalaustrar',\n",
              " 'abalaustraramos': 'abalaustrar',\n",
              " 'abalaustraran': 'abalaustrar',\n",
              " 'abalaustraras': 'abalaustrar',\n",
              " 'abalaustrare': 'abalaustrar',\n",
              " 'abalaustrareis': 'abalaustrar',\n",
              " 'abalaustraremos': 'abalaustrar',\n",
              " 'abalaustraren': 'abalaustrar',\n",
              " 'abalaustrares': 'abalaustrar',\n",
              " 'abalaustraria': 'abalaustrar',\n",
              " 'abalaustrariais': 'abalaustrar',\n",
              " 'abalaustrariamos': 'abalaustrar',\n",
              " 'abalaustrarian': 'abalaustrar',\n",
              " 'abalaustrarias': 'abalaustrar',\n",
              " 'abalaustraron': 'abalaustrar',\n",
              " 'abalaustras': 'abalaustrar',\n",
              " 'abalaustrase': 'abalaustrar',\n",
              " 'abalaustraseis': 'abalaustrar',\n",
              " 'abalaustrasemos': 'abalaustrar',\n",
              " 'abalaustrasen': 'abalaustrar',\n",
              " 'abalaustrases': 'abalaustrar',\n",
              " 'abalaustraste': 'abalaustrar',\n",
              " 'abalaustrasteis': 'abalaustrar',\n",
              " 'abalaustre': 'abalaustrar',\n",
              " 'abalaustreis': 'abalaustrar',\n",
              " 'abalaustremos': 'abalaustrar',\n",
              " 'abalaustren': 'abalaustrar',\n",
              " 'abalaustres': 'abalaustrar',\n",
              " 'abalaustro': 'abalaustrar',\n",
              " 'abaleadora': 'abaleador',\n",
              " 'abaleadoras': 'abaleador',\n",
              " 'abaleadores': 'abaleador',\n",
              " 'abaleaduras': 'abaleadura',\n",
              " 'abalea': 'abalear',\n",
              " 'abaleaba': 'abalear',\n",
              " 'abaleabais': 'abalear',\n",
              " 'abaleabamos': 'abalear',\n",
              " 'abaleaban': 'abalear',\n",
              " 'abaleabas': 'abalear',\n",
              " 'abalead': 'abalear',\n",
              " 'abaleada': 'abalear',\n",
              " 'abaleadas': 'abalear',\n",
              " 'abaleado': 'abalear',\n",
              " 'abaleados': 'abalear',\n",
              " 'abaleais': 'abalear',\n",
              " 'abaleamos': 'abalear',\n",
              " 'abalean': 'abalear',\n",
              " 'abaleando': 'abalear',\n",
              " 'abaleara': 'abalear',\n",
              " 'abalearais': 'abalear',\n",
              " 'abalearamos': 'abalear',\n",
              " 'abalearan': 'abalear',\n",
              " 'abalearas': 'abalear',\n",
              " 'abaleare': 'abalear',\n",
              " 'abaleareis': 'abalear',\n",
              " 'abalearemos': 'abalear',\n",
              " 'abalearen': 'abalear',\n",
              " 'abaleares': 'abalear',\n",
              " 'abalearia': 'abalear',\n",
              " 'abaleariais': 'abalear',\n",
              " 'abaleariamos': 'abalear',\n",
              " 'abalearian': 'abalear',\n",
              " 'abalearias': 'abalear',\n",
              " 'abalearon': 'abalear',\n",
              " 'abaleas': 'abalear',\n",
              " 'abalease': 'abalear',\n",
              " 'abaleaseis': 'abalear',\n",
              " 'abaleasemos': 'abalear',\n",
              " 'abaleasen': 'abalear',\n",
              " 'abaleases': 'abalear',\n",
              " 'abaleaste': 'abalear',\n",
              " 'abaleasteis': 'abalear',\n",
              " 'abalee': 'abalear',\n",
              " 'abaleeis': 'abalear',\n",
              " 'abaleemos': 'abalear',\n",
              " 'abaleen': 'abalear',\n",
              " 'abalees': 'abalear',\n",
              " 'abaleo': 'abalear',\n",
              " 'abaleos': 'abaleo',\n",
              " 'abalizamientos': 'abalizamiento',\n",
              " 'abalice': 'abalizar',\n",
              " 'abaliceis': 'abalizar',\n",
              " 'abalicemos': 'abalizar',\n",
              " 'abalicen': 'abalizar',\n",
              " 'abalices': 'abalizar',\n",
              " 'abaliza': 'abalizar',\n",
              " 'abalizaba': 'abalizar',\n",
              " 'abalizabais': 'abalizar',\n",
              " 'abalizabamos': 'abalizar',\n",
              " 'abalizaban': 'abalizar',\n",
              " 'abalizabas': 'abalizar',\n",
              " 'abalizad': 'abalizar',\n",
              " 'abalizada': 'abalizar',\n",
              " 'abalizadas': 'abalizar',\n",
              " 'abalizado': 'abalizar',\n",
              " 'abalizados': 'abalizar',\n",
              " 'abalizais': 'abalizar',\n",
              " 'abalizamos': 'abalizar',\n",
              " 'abalizan': 'abalizar',\n",
              " 'abalizando': 'abalizar',\n",
              " 'abalizara': 'abalizar',\n",
              " 'abalizarais': 'abalizar',\n",
              " 'abalizaramos': 'abalizar',\n",
              " 'abalizaran': 'abalizar',\n",
              " 'abalizaras': 'abalizar',\n",
              " 'abalizare': 'abalizar',\n",
              " 'abalizareis': 'abalizar',\n",
              " 'abalizaremos': 'abalizar',\n",
              " 'abalizaren': 'abalizar',\n",
              " 'abalizares': 'abalizar',\n",
              " 'abalizaria': 'abalizar',\n",
              " 'abalizariais': 'abalizar',\n",
              " 'abalizariamos': 'abalizar',\n",
              " 'abalizarian': 'abalizar',\n",
              " 'abalizarias': 'abalizar',\n",
              " 'abalizaron': 'abalizar',\n",
              " 'abalizas': 'abalizar',\n",
              " 'abalizase': 'abalizar',\n",
              " 'abalizaseis': 'abalizar',\n",
              " 'abalizasemos': 'abalizar',\n",
              " 'abalizasen': 'abalizar',\n",
              " 'abalizases': 'abalizar',\n",
              " 'abalizaste': 'abalizar',\n",
              " 'abalizasteis': 'abalizar',\n",
              " 'abalizo': 'abalizar',\n",
              " 'aballa': 'aballar',\n",
              " 'aballaba': 'aballar',\n",
              " 'aballabais': 'aballar',\n",
              " 'aballabamos': 'aballar',\n",
              " 'aballaban': 'aballar',\n",
              " 'aballabas': 'aballar',\n",
              " 'aballad': 'aballar',\n",
              " 'aballada': 'aballar',\n",
              " 'aballadas': 'aballar',\n",
              " 'aballado': 'aballar',\n",
              " 'aballados': 'aballar',\n",
              " 'aballais': 'aballar',\n",
              " 'aballamos': 'aballar',\n",
              " 'aballan': 'aballar',\n",
              " 'aballando': 'aballar',\n",
              " 'aballara': 'aballar',\n",
              " 'aballarais': 'aballar',\n",
              " 'aballaramos': 'aballar',\n",
              " 'aballaran': 'aballar',\n",
              " 'aballaras': 'aballar',\n",
              " 'aballare': 'aballar',\n",
              " 'aballareis': 'aballar',\n",
              " 'aballaremos': 'aballar',\n",
              " 'aballaren': 'aballar',\n",
              " 'aballares': 'aballar',\n",
              " 'aballaria': 'aballar',\n",
              " 'aballariais': 'aballar',\n",
              " 'aballariamos': 'aballar',\n",
              " 'aballarian': 'aballar',\n",
              " 'aballarias': 'aballar',\n",
              " 'aballaron': 'aballar',\n",
              " 'aballas': 'aballar',\n",
              " 'aballase': 'aballar',\n",
              " 'aballaseis': 'aballar',\n",
              " 'aballasemos': 'aballar',\n",
              " 'aballasen': 'aballar',\n",
              " 'aballases': 'aballar',\n",
              " 'aballaste': 'aballar',\n",
              " 'aballasteis': 'aballar',\n",
              " 'aballe': 'aballar',\n",
              " 'aballeis': 'aballar',\n",
              " 'aballemos': 'aballar',\n",
              " 'aballen': 'aballar',\n",
              " 'aballes': 'aballar',\n",
              " 'aballo': 'aballar',\n",
              " 'aballesta': 'aballestar',\n",
              " 'aballestaba': 'aballestar',\n",
              " 'aballestabais': 'aballestar',\n",
              " 'aballestabamos': 'aballestar',\n",
              " 'aballestaban': 'aballestar',\n",
              " 'aballestabas': 'aballestar',\n",
              " 'aballestad': 'aballestar',\n",
              " 'aballestada': 'aballestar',\n",
              " 'aballestadas': 'aballestar',\n",
              " 'aballestado': 'aballestar',\n",
              " 'aballestados': 'aballestar',\n",
              " 'aballestais': 'aballestar',\n",
              " 'aballestamos': 'aballestar',\n",
              " 'aballestan': 'aballestar',\n",
              " 'aballestando': 'aballestar',\n",
              " 'aballestara': 'aballestar',\n",
              " 'aballestarais': 'aballestar',\n",
              " 'aballestaramos': 'aballestar',\n",
              " 'aballestaran': 'aballestar',\n",
              " 'aballestaras': 'aballestar',\n",
              " 'aballestare': 'aballestar',\n",
              " 'aballestareis': 'aballestar',\n",
              " 'aballestaremos': 'aballestar',\n",
              " 'aballestaren': 'aballestar',\n",
              " 'aballestares': 'aballestar',\n",
              " 'aballestaria': 'aballestar',\n",
              " 'aballestariais': 'aballestar',\n",
              " 'aballestariamos': 'aballestar',\n",
              " 'aballestarian': 'aballestar',\n",
              " 'aballestarias': 'aballestar',\n",
              " 'aballestaron': 'aballestar',\n",
              " 'aballestas': 'aballestar',\n",
              " 'aballestase': 'aballestar',\n",
              " 'aballestaseis': 'aballestar',\n",
              " 'aballestasemos': 'aballestar',\n",
              " 'aballestasen': 'aballestar',\n",
              " 'aballestases': 'aballestar',\n",
              " 'aballestaste': 'aballestar',\n",
              " 'aballestasteis': 'aballestar',\n",
              " 'aballeste': 'aballestar',\n",
              " 'aballesteis': 'aballestar',\n",
              " 'aballestemos': 'aballestar',\n",
              " 'aballesten': 'aballestar',\n",
              " 'aballestes': 'aballestar',\n",
              " 'aballesto': 'aballestar',\n",
              " 'abalorios': 'abalorio',\n",
              " 'abaluarta': 'abaluartar',\n",
              " 'abaluartaba': 'abaluartar',\n",
              " 'abaluartabais': 'abaluartar',\n",
              " 'abaluartabamos': 'abaluartar',\n",
              " 'abaluartaban': 'abaluartar',\n",
              " 'abaluartabas': 'abaluartar',\n",
              " 'abaluartad': 'abaluartar',\n",
              " 'abaluartada': 'abaluartar',\n",
              " 'abaluartadas': 'abaluartar',\n",
              " 'abaluartado': 'abaluartar',\n",
              " 'abaluartados': 'abaluartar',\n",
              " 'abaluartais': 'abaluartar',\n",
              " 'abaluartamos': 'abaluartar',\n",
              " 'abaluartan': 'abaluartar',\n",
              " 'abaluartando': 'abaluartar',\n",
              " 'abaluartara': 'abaluartar',\n",
              " 'abaluartarais': 'abaluartar',\n",
              " 'abaluartaramos': 'abaluartar',\n",
              " 'abaluartaran': 'abaluartar',\n",
              " 'abaluartaras': 'abaluartar',\n",
              " 'abaluartare': 'abaluartar',\n",
              " 'abaluartareis': 'abaluartar',\n",
              " 'abaluartaremos': 'abaluartar',\n",
              " 'abaluartaren': 'abaluartar',\n",
              " 'abaluartares': 'abaluartar',\n",
              " 'abaluartaria': 'abaluartar',\n",
              " 'abaluartariais': 'abaluartar',\n",
              " 'abaluartariamos': 'abaluartar',\n",
              " 'abaluartarian': 'abaluartar',\n",
              " 'abaluartarias': 'abaluartar',\n",
              " 'abaluartaron': 'abaluartar',\n",
              " 'abaluartas': 'abaluartar',\n",
              " 'abaluartase': 'abaluartar',\n",
              " 'abaluartaseis': 'abaluartar',\n",
              " 'abaluartasemos': 'abaluartar',\n",
              " 'abaluartasen': 'abaluartar',\n",
              " 'abaluartases': 'abaluartar',\n",
              " 'abaluartaste': 'abaluartar',\n",
              " 'abaluartasteis': 'abaluartar',\n",
              " 'abaluarte': 'abaluartar',\n",
              " 'abaluarteis': 'abaluartar',\n",
              " 'abaluartemos': 'abaluartar',\n",
              " 'abaluarten': 'abaluartar',\n",
              " 'abaluartes': 'abaluartar',\n",
              " 'abaluarto': 'abaluartar',\n",
              " 'abañadora': 'abañador',\n",
              " 'abañadoras': 'abañador',\n",
              " 'abañadores': 'abañador',\n",
              " 'abañaduras': 'abañadura',\n",
              " 'abana': 'abanar',\n",
              " 'abanaba': 'abanar',\n",
              " 'abanabais': 'abanar',\n",
              " 'abanabamos': 'abanar',\n",
              " 'abanaban': 'abanar',\n",
              " 'abanabas': 'abanar',\n",
              " 'abanad': 'abanar',\n",
              " 'abanada': 'abanar',\n",
              " 'abanadas': 'abanar',\n",
              " 'abanado': 'abanar',\n",
              " 'abanados': 'abanar',\n",
              " 'abanais': 'abanar',\n",
              " 'abanamos': 'abanar',\n",
              " 'abanan': 'abanar',\n",
              " 'abanando': 'abanar',\n",
              " 'abanara': 'abanar',\n",
              " 'abanarais': 'abanar',\n",
              " 'abanaramos': 'abanar',\n",
              " 'abanaran': 'abanar',\n",
              " 'abanaras': 'abanar',\n",
              " 'abanare': 'abanar',\n",
              " 'abanareis': 'abanar',\n",
              " 'abanaremos': 'abanar',\n",
              " 'abanaren': 'abanar',\n",
              " 'abanares': 'abanar',\n",
              " 'abanaria': 'abanar',\n",
              " 'abanariais': 'abanar',\n",
              " 'abanariamos': 'abanar',\n",
              " 'abanarian': 'abanar',\n",
              " 'abanarias': 'abanar',\n",
              " 'abanaron': 'abanar',\n",
              " 'abanas': 'abanar',\n",
              " 'abanase': 'abanar',\n",
              " 'abanaseis': 'abanar',\n",
              " 'abanasemos': 'abanar',\n",
              " 'abanasen': 'abanar',\n",
              " 'abanases': 'abanar',\n",
              " 'abanaste': 'abanar',\n",
              " 'abanasteis': 'abanar',\n",
              " 'abane': 'abanar',\n",
              " 'abaneis': 'abanar',\n",
              " 'abanemos': 'abanar',\n",
              " 'abanen': 'abanar',\n",
              " 'abanes': 'abanar',\n",
              " 'abano': 'abanar',\n",
              " 'abaña': 'abañar',\n",
              " 'abañaba': 'abañar',\n",
              " 'abañabais': 'abañar',\n",
              " 'abañabamos': 'abañar',\n",
              " 'abañaban': 'abañar',\n",
              " 'abañabas': 'abañar',\n",
              " 'abañad': 'abañar',\n",
              " 'abañada': 'abañar',\n",
              " 'abañadas': 'abañar',\n",
              " 'abañado': 'abañar',\n",
              " 'abañados': 'abañar',\n",
              " 'abañais': 'abañar',\n",
              " 'abañamos': 'abañar',\n",
              " 'abañan': 'abañar',\n",
              " 'abañando': 'abañar',\n",
              " 'abañara': 'abañar',\n",
              " 'abañarais': 'abañar',\n",
              " 'abañaramos': 'abañar',\n",
              " 'abañaran': 'abañar',\n",
              " 'abañaras': 'abañar',\n",
              " 'abañare': 'abañar',\n",
              " 'abañareis': 'abañar',\n",
              " 'abañaremos': 'abañar',\n",
              " 'abañaren': 'abañar',\n",
              " 'abañares': 'abañar',\n",
              " 'abañaria': 'abañar',\n",
              " 'abañariais': 'abañar',\n",
              " 'abañariamos': 'abañar',\n",
              " 'abañarian': 'abañar',\n",
              " 'abañarias': 'abañar',\n",
              " 'abañaron': 'abañar',\n",
              " 'abañas': 'abañar',\n",
              " 'abañase': 'abañar',\n",
              " 'abañaseis': 'abañar',\n",
              " 'abañasemos': 'abañar',\n",
              " 'abañasen': 'abañar',\n",
              " 'abañases': 'abañar',\n",
              " 'abañaste': 'abañar',\n",
              " 'abañasteis': 'abañar',\n",
              " 'abañe': 'abañar',\n",
              " 'abañeis': 'abañar',\n",
              " 'abañemos': 'abañar',\n",
              " 'abañen': 'abañar',\n",
              " 'abañes': 'abañar',\n",
              " 'abaño': 'abañar',\n",
              " 'abandalice': 'abandalizar',\n",
              " 'abandaliceis': 'abandalizar',\n",
              " 'abandalicemos': 'abandalizar',\n",
              " 'abandalicen': 'abandalizar',\n",
              " 'abandalices': 'abandalizar',\n",
              " 'abandaliza': 'abandalizar',\n",
              " 'abandalizaba': 'abandalizar',\n",
              " 'abandalizabais': 'abandalizar',\n",
              " 'abandalizabamos': 'abandalizar',\n",
              " 'abandalizaban': 'abandalizar',\n",
              " 'abandalizabas': 'abandalizar',\n",
              " 'abandalizad': 'abandalizar',\n",
              " 'abandalizada': 'abandalizar',\n",
              " 'abandalizadas': 'abandalizar',\n",
              " 'abandalizado': 'abandalizar',\n",
              " 'abandalizados': 'abandalizar',\n",
              " 'abandalizais': 'abandalizar',\n",
              " 'abandalizamos': 'abandalizar',\n",
              " 'abandalizan': 'abandalizar',\n",
              " 'abandalizando': 'abandalizar',\n",
              " 'abandalizara': 'abandalizar',\n",
              " 'abandalizarais': 'abandalizar',\n",
              " 'abandalizaramos': 'abandalizar',\n",
              " 'abandalizaran': 'abandalizar',\n",
              " 'abandalizaras': 'abandalizar',\n",
              " 'abandalizare': 'abandalizar',\n",
              " 'abandalizareis': 'abandalizar',\n",
              " 'abandalizaremos': 'abandalizar',\n",
              " 'abandalizaren': 'abandalizar',\n",
              " 'abandalizares': 'abandalizar',\n",
              " 'abandalizaria': 'abandalizar',\n",
              " 'abandalizariais': 'abandalizar',\n",
              " 'abandalizariamos': 'abandalizar',\n",
              " 'abandalizarian': 'abandalizar',\n",
              " 'abandalizarias': 'abandalizar',\n",
              " 'abandalizaron': 'abandalizar',\n",
              " 'abandalizas': 'abandalizar',\n",
              " 'abandalizase': 'abandalizar',\n",
              " 'abandalizaseis': 'abandalizar',\n",
              " 'abandalizasemos': 'abandalizar',\n",
              " 'abandalizasen': 'abandalizar',\n",
              " 'abandalizases': 'abandalizar',\n",
              " 'abandalizaste': 'abandalizar',\n",
              " 'abandalizasteis': 'abandalizar',\n",
              " 'abandalizo': 'abandalizar',\n",
              " 'abanderada': 'abanderar',\n",
              " 'abanderadas': 'abanderar',\n",
              " 'abanderados': 'abanderar',\n",
              " 'abanderamientos': 'abanderamiento',\n",
              " 'abandera': 'abanderar',\n",
              " 'abanderaba': 'abanderar',\n",
              " 'abanderabais': 'abanderar',\n",
              " 'abanderabamos': 'abanderar',\n",
              " 'abanderaban': 'abanderar',\n",
              " 'abanderabas': 'abanderar',\n",
              " 'abanderad': 'abanderar',\n",
              " 'abanderado': 'abanderar',\n",
              " 'abanderais': 'abanderar',\n",
              " 'abanderamos': 'abanderar',\n",
              " 'abanderan': 'abanderar',\n",
              " 'abanderando': 'abanderar',\n",
              " 'abanderara': 'abanderar',\n",
              " 'abanderarais': 'abanderar',\n",
              " 'abanderaramos': 'abanderar',\n",
              " 'abanderaran': 'abanderar',\n",
              " 'abanderaras': 'abanderar',\n",
              " 'abanderare': 'abanderar',\n",
              " 'abanderareis': 'abanderar',\n",
              " 'abanderaremos': 'abanderar',\n",
              " 'abanderaren': 'abanderar',\n",
              " 'abanderares': 'abanderar',\n",
              " 'abanderaria': 'abanderar',\n",
              " 'abanderariais': 'abanderar',\n",
              " 'abanderariamos': 'abanderar',\n",
              " 'abanderarian': 'abanderar',\n",
              " 'abanderarias': 'abanderar',\n",
              " 'abanderaron': 'abanderar',\n",
              " 'abanderas': 'abanderar',\n",
              " 'abanderase': 'abanderar',\n",
              " 'abanderaseis': 'abanderar',\n",
              " 'abanderasemos': 'abanderar',\n",
              " 'abanderasen': 'abanderar',\n",
              " 'abanderases': 'abanderar',\n",
              " 'abanderaste': 'abanderar',\n",
              " 'abanderasteis': 'abanderar',\n",
              " 'abandere': 'abanderar',\n",
              " 'abandereis': 'abanderar',\n",
              " 'abanderemos': 'abanderar',\n",
              " 'abanderen': 'abanderar',\n",
              " 'abanderes': 'abanderar',\n",
              " 'abandero': 'abanderar',\n",
              " 'abanderice': 'abanderizar',\n",
              " 'abandericeis': 'abanderizar',\n",
              " 'abandericemos': 'abanderizar',\n",
              " 'abandericen': 'abanderizar',\n",
              " 'abanderices': 'abanderizar',\n",
              " 'abanderiza': 'abanderizar',\n",
              " 'abanderizaba': 'abanderizar',\n",
              " 'abanderizabais': 'abanderizar',\n",
              " 'abanderizabamos': 'abanderizar',\n",
              " 'abanderizaban': 'abanderizar',\n",
              " 'abanderizabas': 'abanderizar',\n",
              " 'abanderizad': 'abanderizar',\n",
              " 'abanderizada': 'abanderizar',\n",
              " 'abanderizadas': 'abanderizar',\n",
              " 'abanderizado': 'abanderizar',\n",
              " 'abanderizados': 'abanderizar',\n",
              " 'abanderizais': 'abanderizar',\n",
              " 'abanderizamos': 'abanderizar',\n",
              " 'abanderizan': 'abanderizar',\n",
              " 'abanderizando': 'abanderizar',\n",
              " 'abanderizara': 'abanderizar',\n",
              " 'abanderizarais': 'abanderizar',\n",
              " 'abanderizaramos': 'abanderizar',\n",
              " 'abanderizaran': 'abanderizar',\n",
              " 'abanderizaras': 'abanderizar',\n",
              " 'abanderizare': 'abanderizar',\n",
              " 'abanderizareis': 'abanderizar',\n",
              " 'abanderizaremos': 'abanderizar',\n",
              " 'abanderizaren': 'abanderizar',\n",
              " 'abanderizares': 'abanderizar',\n",
              " 'abanderizaria': 'abanderizar',\n",
              " 'abanderizariais': 'abanderizar',\n",
              " 'abanderizariamos': 'abanderizar',\n",
              " 'abanderizarian': 'abanderizar',\n",
              " 'abanderizarias': 'abanderizar',\n",
              " 'abanderizaron': 'abanderizar',\n",
              " 'abanderizas': 'abanderizar',\n",
              " 'abanderizase': 'abanderizar',\n",
              " 'abanderizaseis': 'abanderizar',\n",
              " 'abanderizasemos': 'abanderizar',\n",
              " 'abanderizasen': 'abanderizar',\n",
              " 'abanderizases': 'abanderizar',\n",
              " 'abanderizaste': 'abanderizar',\n",
              " 'abanderizasteis': 'abanderizar',\n",
              " 'abanderizo': 'abanderizar',\n",
              " 'abandona': 'abandonar',\n",
              " 'abandonaba': 'abandonar',\n",
              " 'abandonabais': 'abandonar',\n",
              " 'abandonabamos': 'abandonar',\n",
              " 'abandonaban': 'abandonar',\n",
              " 'abandonabas': 'abandonar',\n",
              " 'abandonad': 'abandonar',\n",
              " 'abandonada': 'abandonar',\n",
              " 'abandonadas': 'abandonar',\n",
              " 'abandonado': 'abandonar',\n",
              " 'abandonados': 'abandonar',\n",
              " 'abandonais': 'abandonar',\n",
              " 'abandonamos': 'abandonar',\n",
              " 'abandonan': 'abandonar',\n",
              " 'abandonando': 'abandonar',\n",
              " 'abandonara': 'abandonar',\n",
              " 'abandonarais': 'abandonar',\n",
              " 'abandonaramos': 'abandonar',\n",
              " 'abandonaran': 'abandonar',\n",
              " 'abandonaras': 'abandonar',\n",
              " 'abandonare': 'abandonar',\n",
              " 'abandonareis': 'abandonar',\n",
              " 'abandonaremos': 'abandonar',\n",
              " 'abandonaren': 'abandonar',\n",
              " 'abandonares': 'abandonar',\n",
              " 'abandonaria': 'abandonar',\n",
              " 'abandonariais': 'abandonar',\n",
              " 'abandonariamos': 'abandonar',\n",
              " 'abandonarian': 'abandonar',\n",
              " 'abandonarias': 'abandonar',\n",
              " 'abandonaron': 'abandonar',\n",
              " 'abandonas': 'abandonar',\n",
              " 'abandonase': 'abandonar',\n",
              " 'abandonaseis': 'abandonar',\n",
              " 'abandonasemos': 'abandonar',\n",
              " 'abandonasen': 'abandonar',\n",
              " 'abandonases': 'abandonar',\n",
              " 'abandonaste': 'abandonar',\n",
              " 'abandonasteis': 'abandonar',\n",
              " 'abandone': 'abandonar',\n",
              " 'abandoneis': 'abandonar',\n",
              " 'abandonemos': 'abandonar',\n",
              " 'abandonen': 'abandonar',\n",
              " 'abandones': 'abandonar',\n",
              " 'abandono': 'abandonar',\n",
              " 'abandonismos': 'abandonismo',\n",
              " 'abandonistas': 'abandonista',\n",
              " 'abandonos': 'abandono',\n",
              " 'abanica': 'abanicar',\n",
              " 'abanicaba': 'abanicar',\n",
              " 'abanicabais': 'abanicar',\n",
              " 'abanicabamos': 'abanicar',\n",
              " 'abanicaban': 'abanicar',\n",
              " 'abanicabas': 'abanicar',\n",
              " 'abanicad': 'abanicar',\n",
              " 'abanicada': 'abanicar',\n",
              " 'abanicadas': 'abanicar',\n",
              " 'abanicado': 'abanicar',\n",
              " 'abanicados': 'abanicar',\n",
              " 'abanicais': 'abanicar',\n",
              " 'abanicamos': 'abanicar',\n",
              " 'abanican': 'abanicar',\n",
              " 'abanicando': 'abanicar',\n",
              " 'abanicara': 'abanicar',\n",
              " 'abanicarais': 'abanicar',\n",
              " 'abanicaramos': 'abanicar',\n",
              " 'abanicaran': 'abanicar',\n",
              " 'abanicaras': 'abanicar',\n",
              " 'abanicare': 'abanicar',\n",
              " 'abanicareis': 'abanicar',\n",
              " 'abanicaremos': 'abanicar',\n",
              " 'abanicaren': 'abanicar',\n",
              " 'abanicares': 'abanicar',\n",
              " 'abanicaria': 'abanicar',\n",
              " 'abanicariais': 'abanicar',\n",
              " 'abanicariamos': 'abanicar',\n",
              " 'abanicarian': 'abanicar',\n",
              " 'abanicarias': 'abanicar',\n",
              " 'abanicaron': 'abanicar',\n",
              " 'abanicas': 'abanicar',\n",
              " 'abanicase': 'abanicar',\n",
              " 'abanicaseis': 'abanicar',\n",
              " 'abanicasemos': 'abanicar',\n",
              " 'abanicasen': 'abanicar',\n",
              " 'abanicases': 'abanicar',\n",
              " 'abanicaste': 'abanicar',\n",
              " 'abanicasteis': 'abanicar',\n",
              " 'abanico': 'abanicar',\n",
              " 'abanique': 'abanicar',\n",
              " 'abaniqueis': 'abanicar',\n",
              " 'abaniquemos': 'abanicar',\n",
              " 'abaniquen': 'abanicar',\n",
              " 'abaniques': 'abanicar',\n",
              " 'abanicazos': 'abanicazo',\n",
              " 'abanicos': 'abanico',\n",
              " 'abanillos': 'abanillo',\n",
              " 'abaniqueos': 'abaniqueo',\n",
              " 'abaniquerias': 'abaniqueria',\n",
              " 'abaniquera': 'abaniquero',\n",
              " 'abaniqueras': 'abaniquero',\n",
              " 'abaniqueros': 'abaniquero',\n",
              " 'abanos': 'abano',\n",
              " 'abantos': 'abanto',\n",
              " 'aba': 'abar',\n",
              " 'ababa': 'abar',\n",
              " 'ababais': 'abar',\n",
              " 'ababamos': 'abar',\n",
              " 'ababan': 'abar',\n",
              " 'abad': 'abar',\n",
              " 'abada': 'abar',\n",
              " 'abado': 'abar',\n",
              " 'abados': 'abar',\n",
              " 'abais': 'abar',\n",
              " 'abamos': 'abar',\n",
              " 'aban': 'abar',\n",
              " 'abando': 'abar',\n",
              " 'abara': 'abar',\n",
              " 'abarais': 'abar',\n",
              " 'abaramos': 'abar',\n",
              " 'abaran': 'abar',\n",
              " 'abaras': 'abar',\n",
              " 'abare': 'abar',\n",
              " 'abareis': 'abar',\n",
              " 'abaremos': 'abar',\n",
              " 'abaren': 'abar',\n",
              " 'abares': 'abar',\n",
              " 'abaria': 'abar',\n",
              " 'abariais': 'abar',\n",
              " 'abariamos': 'abar',\n",
              " 'abarian': 'abar',\n",
              " 'abarias': 'abar',\n",
              " 'abaron': 'abar',\n",
              " 'abas': 'abar',\n",
              " 'abase': 'abar',\n",
              " 'abaseis': 'abar',\n",
              " 'abasemos': 'abar',\n",
              " 'abasen': 'abar',\n",
              " 'abases': 'abar',\n",
              " 'abaste': 'abastar',\n",
              " 'abasteis': 'abastar',\n",
              " 'abe': 'abar',\n",
              " 'abeis': 'abar',\n",
              " 'abemos': 'abar',\n",
              " 'aben': 'abar',\n",
              " 'abes': 'abar',\n",
              " 'abo': 'abar',\n",
              " 'abaratamientos': 'abaratamiento',\n",
              " 'abarata': 'abaratar',\n",
              " 'abarataba': 'abaratar',\n",
              " 'abaratabais': 'abaratar',\n",
              " 'abaratabamos': 'abaratar',\n",
              " 'abarataban': 'abaratar',\n",
              " 'abaratabas': 'abaratar',\n",
              " 'abaratad': 'abaratar',\n",
              " 'abaratada': 'abaratar',\n",
              " 'abaratadas': 'abaratar',\n",
              " 'abaratado': 'abaratar',\n",
              " 'abaratados': 'abaratar',\n",
              " 'abaratais': 'abaratar',\n",
              " 'abaratamos': 'abaratar',\n",
              " 'abaratan': 'abaratar',\n",
              " 'abaratando': 'abaratar',\n",
              " 'abaratara': 'abaratar',\n",
              " 'abaratarais': 'abaratar',\n",
              " 'abarataramos': 'abaratar',\n",
              " 'abarataran': 'abaratar',\n",
              " 'abarataras': 'abaratar',\n",
              " 'abaratare': 'abaratar',\n",
              " 'abaratareis': 'abaratar',\n",
              " 'abarataremos': 'abaratar',\n",
              " 'abarataren': 'abaratar',\n",
              " 'abaratares': 'abaratar',\n",
              " 'abarataria': 'abaratar',\n",
              " 'abaratariais': 'abaratar',\n",
              " 'abaratariamos': 'abaratar',\n",
              " 'abaratarian': 'abaratar',\n",
              " 'abaratarias': 'abaratar',\n",
              " 'abarataron': 'abaratar',\n",
              " 'abaratas': 'abaratar',\n",
              " 'abaratase': 'abaratar',\n",
              " 'abarataseis': 'abaratar',\n",
              " 'abaratasemos': 'abaratar',\n",
              " 'abaratasen': 'abaratar',\n",
              " 'abaratases': 'abaratar',\n",
              " 'abarataste': 'abaratar',\n",
              " 'abaratasteis': 'abaratar',\n",
              " 'abarate': 'abaratar',\n",
              " 'abarateis': 'abaratar',\n",
              " 'abaratemos': 'abaratar',\n",
              " 'abaraten': 'abaratar',\n",
              " 'abarates': 'abaratar',\n",
              " 'abarato': 'abaratar',\n",
              " 'abarbecha': 'abarbechar',\n",
              " 'abarbechaba': 'abarbechar',\n",
              " 'abarbechabais': 'abarbechar',\n",
              " 'abarbechabamos': 'abarbechar',\n",
              " 'abarbechaban': 'abarbechar',\n",
              " 'abarbechabas': 'abarbechar',\n",
              " 'abarbechad': 'abarbechar',\n",
              " 'abarbechada': 'abarbechar',\n",
              " 'abarbechadas': 'abarbechar',\n",
              " 'abarbechado': 'abarbechar',\n",
              " 'abarbechados': 'abarbechar',\n",
              " 'abarbechais': 'abarbechar',\n",
              " 'abarbechamos': 'abarbechar',\n",
              " 'abarbechan': 'abarbechar',\n",
              " 'abarbechando': 'abarbechar',\n",
              " 'abarbechara': 'abarbechar',\n",
              " 'abarbecharais': 'abarbechar',\n",
              " 'abarbecharamos': 'abarbechar',\n",
              " 'abarbecharan': 'abarbechar',\n",
              " 'abarbecharas': 'abarbechar',\n",
              " 'abarbechare': 'abarbechar',\n",
              " 'abarbechareis': 'abarbechar',\n",
              " 'abarbecharemos': 'abarbechar',\n",
              " 'abarbecharen': 'abarbechar',\n",
              " 'abarbechares': 'abarbechar',\n",
              " 'abarbecharia': 'abarbechar',\n",
              " 'abarbechariais': 'abarbechar',\n",
              " 'abarbechariamos': 'abarbechar',\n",
              " 'abarbecharian': 'abarbechar',\n",
              " 'abarbecharias': 'abarbechar',\n",
              " 'abarbecharon': 'abarbechar',\n",
              " 'abarbechas': 'abarbechar',\n",
              " 'abarbechase': 'abarbechar',\n",
              " 'abarbechaseis': 'abarbechar',\n",
              " 'abarbechasemos': 'abarbechar',\n",
              " 'abarbechasen': 'abarbechar',\n",
              " 'abarbechases': 'abarbechar',\n",
              " 'abarbechaste': 'abarbechar',\n",
              " 'abarbechasteis': 'abarbechar',\n",
              " 'abarbeche': 'abarbechar',\n",
              " 'abarbecheis': 'abarbechar',\n",
              " 'abarbechemos': 'abarbechar',\n",
              " 'abarbechen': 'abarbechar',\n",
              " 'abarbeches': 'abarbechar',\n",
              " 'abarbecho': 'abarbechar',\n",
              " 'abarbeta': 'abarbetar',\n",
              " 'abarbetaba': 'abarbetar',\n",
              " 'abarbetabais': 'abarbetar',\n",
              " 'abarbetabamos': 'abarbetar',\n",
              " 'abarbetaban': 'abarbetar',\n",
              " 'abarbetabas': 'abarbetar',\n",
              " 'abarbetad': 'abarbetar',\n",
              " 'abarbetada': 'abarbetar',\n",
              " 'abarbetadas': 'abarbetar',\n",
              " 'abarbetado': 'abarbetar',\n",
              " 'abarbetados': 'abarbetar',\n",
              " 'abarbetais': 'abarbetar',\n",
              " 'abarbetamos': 'abarbetar',\n",
              " 'abarbetan': 'abarbetar',\n",
              " 'abarbetando': 'abarbetar',\n",
              " 'abarbetara': 'abarbetar',\n",
              " 'abarbetarais': 'abarbetar',\n",
              " 'abarbetaramos': 'abarbetar',\n",
              " 'abarbetaran': 'abarbetar',\n",
              " 'abarbetaras': 'abarbetar',\n",
              " 'abarbetare': 'abarbetar',\n",
              " 'abarbetareis': 'abarbetar',\n",
              " 'abarbetaremos': 'abarbetar',\n",
              " 'abarbetaren': 'abarbetar',\n",
              " 'abarbetares': 'abarbetar',\n",
              " 'abarbetaria': 'abarbetar',\n",
              " 'abarbetariais': 'abarbetar',\n",
              " 'abarbetariamos': 'abarbetar',\n",
              " 'abarbetarian': 'abarbetar',\n",
              " 'abarbetarias': 'abarbetar',\n",
              " 'abarbetaron': 'abarbetar',\n",
              " 'abarbetas': 'abarbetar',\n",
              " 'abarbetase': 'abarbetar',\n",
              " 'abarbetaseis': 'abarbetar',\n",
              " 'abarbetasemos': 'abarbetar',\n",
              " 'abarbetasen': 'abarbetar',\n",
              " 'abarbetases': 'abarbetar',\n",
              " 'abarbetaste': 'abarbetar',\n",
              " 'abarbetasteis': 'abarbetar',\n",
              " 'abarbete': 'abarbetar',\n",
              " 'abarbeteis': 'abarbetar',\n",
              " 'abarbetemos': 'abarbetar',\n",
              " 'abarbeten': 'abarbetar',\n",
              " 'abarbetes': 'abarbetar',\n",
              " 'abarbeto': 'abarbetar',\n",
              " 'abarcas': 'abarcar',\n",
              " 'abarcables': 'abarcable',\n",
              " 'abarcadora': 'abarcador',\n",
              " 'abarcadoras': 'abarcador',\n",
              " 'abarcadores': 'abarcador',\n",
              " 'abarcaduras': 'abarcadura',\n",
              " 'abarcamientos': 'abarcamiento',\n",
              " 'abarca': 'abarcar',\n",
              " 'abarcaba': 'abarcar',\n",
              " 'abarcabais': 'abarcar',\n",
              " 'abarcabamos': 'abarcar',\n",
              " 'abarcaban': 'abarcar',\n",
              " 'abarcabas': 'abarcar',\n",
              " 'abarcad': 'abarcar',\n",
              " 'abarcada': 'abarcar',\n",
              " 'abarcadas': 'abarcar',\n",
              " 'abarcado': 'abarcar',\n",
              " 'abarcados': 'abarcar',\n",
              " 'abarcais': 'abarcar',\n",
              " 'abarcamos': 'abarcar',\n",
              " 'abarcan': 'abarcar',\n",
              " 'abarcando': 'abarcar',\n",
              " 'abarcara': 'abarcar',\n",
              " 'abarcarais': 'abarcar',\n",
              " 'abarcaramos': 'abarcar',\n",
              " 'abarcaran': 'abarcar',\n",
              " 'abarcaras': 'abarcar',\n",
              " 'abarcare': 'abarcar',\n",
              " 'abarcareis': 'abarcar',\n",
              " 'abarcaremos': 'abarcar',\n",
              " 'abarcaren': 'abarcar',\n",
              " 'abarcares': 'abarcar',\n",
              " 'abarcaria': 'abarcar',\n",
              " 'abarcariais': 'abarcar',\n",
              " 'abarcariamos': 'abarcar',\n",
              " 'abarcarian': 'abarcar',\n",
              " 'abarcarias': 'abarcar',\n",
              " 'abarcaron': 'abarcar',\n",
              " 'abarcase': 'abarcar',\n",
              " 'abarcaseis': 'abarcar',\n",
              " 'abarcasemos': 'abarcar',\n",
              " 'abarcasen': 'abarcar',\n",
              " 'abarcases': 'abarcar',\n",
              " 'abarcaste': 'abarcar',\n",
              " 'abarcasteis': 'abarcar',\n",
              " 'abarco': 'abarcar',\n",
              " 'abarque': 'abarcar',\n",
              " 'abarqueis': 'abarcar',\n",
              " 'abarquemos': 'abarcar',\n",
              " 'abarquen': 'abarcar',\n",
              " 'abarques': 'abarcar',\n",
              " 'abaritonada': 'abaritonado',\n",
              " 'abaritonadas': 'abaritonado',\n",
              " 'abaritonados': 'abaritonado',\n",
              " 'abarloamientos': 'abarloamiento',\n",
              " 'abarloa': 'abarloar',\n",
              " 'abarloaba': 'abarloar',\n",
              " 'abarloabais': 'abarloar',\n",
              " 'abarloabamos': 'abarloar',\n",
              " 'abarloaban': 'abarloar',\n",
              " 'abarloabas': 'abarloar',\n",
              " 'abarload': 'abarloar',\n",
              " 'abarloada': 'abarloar',\n",
              " 'abarloadas': 'abarloar',\n",
              " 'abarloado': 'abarloar',\n",
              " 'abarloados': 'abarloar',\n",
              " 'abarloais': 'abarloar',\n",
              " 'abarloamos': 'abarloar',\n",
              " 'abarloan': 'abarloar',\n",
              " 'abarloando': 'abarloar',\n",
              " 'abarloara': 'abarloar',\n",
              " 'abarloarais': 'abarloar',\n",
              " 'abarloaramos': 'abarloar',\n",
              " 'abarloaran': 'abarloar',\n",
              " 'abarloaras': 'abarloar',\n",
              " 'abarloare': 'abarloar',\n",
              " 'abarloareis': 'abarloar',\n",
              " 'abarloaremos': 'abarloar',\n",
              " 'abarloaren': 'abarloar',\n",
              " 'abarloares': 'abarloar',\n",
              " 'abarloaria': 'abarloar',\n",
              " 'abarloariais': 'abarloar',\n",
              " 'abarloariamos': 'abarloar',\n",
              " 'abarloarian': 'abarloar',\n",
              " 'abarloarias': 'abarloar',\n",
              " 'abarloaron': 'abarloar',\n",
              " 'abarloas': 'abarloar',\n",
              " 'abarloase': 'abarloar',\n",
              " 'abarloaseis': 'abarloar',\n",
              " 'abarloasemos': 'abarloar',\n",
              " 'abarloasen': 'abarloar',\n",
              " 'abarloases': 'abarloar',\n",
              " 'abarloaste': 'abarloar',\n",
              " 'abarloasteis': 'abarloar',\n",
              " ...}"
            ]
          },
          "metadata": {
            "tags": []
          },
          "execution_count": 115
        }
      ]
    },
    {
      "cell_type": "code",
      "metadata": {
        "colab": {
          "base_uri": "https://localhost:8080/",
          "height": 35
        },
        "id": "SKjuGm1XrWB_",
        "outputId": "7d7e5a67-e9c3-4bd6-b020-732903c8b69a"
      },
      "source": [
        "lemmas_dict.get('comieron')"
      ],
      "execution_count": null,
      "outputs": [
        {
          "output_type": "execute_result",
          "data": {
            "application/vnd.google.colaboratory.intrinsic+json": {
              "type": "string"
            },
            "text/plain": [
              "'comer'"
            ]
          },
          "metadata": {
            "tags": []
          },
          "execution_count": 116
        }
      ]
    },
    {
      "cell_type": "code",
      "metadata": {
        "colab": {
          "base_uri": "https://localhost:8080/",
          "height": 35
        },
        "id": "asHRVCLzrWB_",
        "outputId": "cc06d9ba-7076-475c-c075-b9144960d527"
      },
      "source": [
        "lemmas_dict.get('mama')"
      ],
      "execution_count": null,
      "outputs": [
        {
          "output_type": "execute_result",
          "data": {
            "application/vnd.google.colaboratory.intrinsic+json": {
              "type": "string"
            },
            "text/plain": [
              "'mamar'"
            ]
          },
          "metadata": {
            "tags": []
          },
          "execution_count": 117
        }
      ]
    },
    {
      "cell_type": "code",
      "metadata": {
        "colab": {
          "base_uri": "https://localhost:8080/",
          "height": 35
        },
        "id": "ny_tbKSTrWB_",
        "outputId": "30bc70a9-c1a6-4955-d3ce-2ebdefed8206"
      },
      "source": [
        "lemmas_dict.get('cinco')"
      ],
      "execution_count": null,
      "outputs": [
        {
          "output_type": "execute_result",
          "data": {
            "application/vnd.google.colaboratory.intrinsic+json": {
              "type": "string"
            },
            "text/plain": [
              "'cincar'"
            ]
          },
          "metadata": {
            "tags": []
          },
          "execution_count": 118
        }
      ]
    },
    {
      "cell_type": "code",
      "metadata": {
        "scrolled": true,
        "colab": {
          "base_uri": "https://localhost:8080/"
        },
        "id": "sUlLphFJrWCA",
        "outputId": "35f18bf7-9666-4f01-c89e-ee7f0e82eaa9"
      },
      "source": [
        "sentence_lemmatized = ' '.join([lemmas_dict.get(word, word) for word in sentence.split()])\n",
        "\n",
        "print('{0:15}{1:10}'.format('Token' ,'Lemma'))\n",
        "for word in sentence.split():\n",
        "    print('{0:15}{1:10}'.format(word, lemmas_dict.get(word, word)))"
      ],
      "execution_count": null,
      "outputs": [
        {
          "output_type": "stream",
          "text": [
            "Token          Lemma     \n",
            "Esta           Esta      \n",
            "vez,           vez,      \n",
            "y              y         \n",
            "lo             el        \n",
            "juro           jurar     \n",
            "ante           ante      \n",
            "el             el        \n",
            "sagrado        sagrado   \n",
            "Necronomicón   Necronomicón\n",
            "de             dar       \n",
            "Lovecraft,     Lovecraft,\n",
            "pienso         pensar    \n",
            "hablar         hablar    \n",
            "de             dar       \n",
            "la             lo        \n",
            "película       película  \n",
            "en             en        \n",
            "si             si        \n",
            "(por           (por      \n",
            "primera        primero   \n",
            "vez            vez       \n",
            "y              y         \n",
            "esperando      esperar   \n",
            "que            que       \n",
            "no             no        \n",
            "sirva          servir    \n",
            "de             dar       \n",
            "precedente),   precedente),\n",
            "aunque         aunque    \n",
            "creo           creer     \n",
            "que            que       \n",
            "es             ser       \n",
            "evidente       evidente  \n",
            "que            que       \n",
            "prefiero       preferir  \n",
            "que            que       \n",
            "una            uno       \n",
            "película       película  \n",
            "me             me        \n",
            "haga           hacer     \n",
            "reflexionar    reflexionar\n",
            "sobre          sobrar    \n",
            "cualquier      cualquiera\n",
            "aspecto        aspecto   \n",
            "que            que       \n",
            "en             en        \n",
            "ella           el        \n",
            "se             ser       \n",
            "de             dar       \n",
            "cita           citar     \n"
          ],
          "name": "stdout"
        }
      ]
    },
    {
      "cell_type": "markdown",
      "metadata": {
        "id": "zuROhqn5rWCA"
      },
      "source": [
        "# Palabras más frecuentes"
      ]
    },
    {
      "cell_type": "code",
      "metadata": {
        "colab": {
          "base_uri": "https://localhost:8080/"
        },
        "id": "H19PcNznrWCA",
        "outputId": "1be1feeb-6a07-4e27-cda1-0adca9e605f5"
      },
      "source": [
        "from collections import Counter\n",
        "\n",
        "freq_text = 'Palabras con - a priori - ningún significado o que aportan muy poca' + \\\n",
        "            'información. Suelen ser palabras muy comunes como, por ejemplo,' + \\\n",
        "            ' preposiciones. En NLP se suele trabajar con vocabularios enormes' + \\\n",
        "            '(en Don Quijote de la Mancha aparecen en torno a 23.000 palabras distintas)' + \\\n",
        "            'por lo que interesa filtras aquellas que menos información aporten.' + \\\n",
        "            'Debate: ¿qué significa que aporten información?'\n",
        "\n",
        "word_freqs = Counter(freq_text.lower().split())\n",
        "word_freqs.most_common(5)"
      ],
      "execution_count": null,
      "outputs": [
        {
          "output_type": "execute_result",
          "data": {
            "text/plain": [
              "[('que', 4), ('palabras', 3), ('con', 2), ('-', 2), ('a', 2)]"
            ]
          },
          "metadata": {
            "tags": []
          },
          "execution_count": 121
        }
      ]
    },
    {
      "cell_type": "markdown",
      "metadata": {
        "id": "uoZn25c-rWCA"
      },
      "source": [
        "# Pipeline"
      ]
    },
    {
      "cell_type": "code",
      "metadata": {
        "id": "MhWMhz69rWCA"
      },
      "source": [
        "# TODO"
      ],
      "execution_count": null,
      "outputs": []
    }
  ]
}